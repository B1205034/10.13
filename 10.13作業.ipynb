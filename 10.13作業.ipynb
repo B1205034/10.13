{
  "nbformat": 4,
  "nbformat_minor": 0,
  "metadata": {
    "colab": {
      "provenance": []
    },
    "kernelspec": {
      "name": "python3",
      "display_name": "Python 3"
    },
    "language_info": {
      "name": "python"
    }
  },
  "cells": [
    {
      "cell_type": "code",
      "execution_count": null,
      "metadata": {
        "colab": {
          "base_uri": "https://localhost:8080/"
        },
        "id": "uuFDqZUz--Ac",
        "outputId": "c7cfedf6-13b9-49ef-ae6b-89e32d2b5324"
      },
      "outputs": [
        {
          "output_type": "stream",
          "name": "stdout",
          "text": [
            "謝筑安 B1205034\n",
            "<class 'str'>\n"
          ]
        }
      ],
      "source": [
        "s = \"謝筑安 B1205034\"\n",
        "print(s)\n",
        "print(type(s))"
      ]
    },
    {
      "cell_type": "code",
      "source": [
        "name = [\"謝筑安\", \"B1205034\"]\n",
        "print(name)"
      ],
      "metadata": {
        "colab": {
          "base_uri": "https://localhost:8080/"
        },
        "id": "nM0XMROJ-DPU",
        "outputId": "ec75dd90-8eb0-46f6-ceb6-417025c0664c"
      },
      "execution_count": null,
      "outputs": [
        {
          "output_type": "stream",
          "name": "stdout",
          "text": [
            "['謝筑安', 'B1205034']\n"
          ]
        }
      ]
    }
  ]
}